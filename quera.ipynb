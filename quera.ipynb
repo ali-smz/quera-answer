{
 "cells": [
  {
   "cell_type": "markdown",
   "id": "d1cf262f-c618-4e08-aac0-393231bcb0b7",
   "metadata": {},
   "source": [
    "# حل بعضی از مسائل وبسایت کوئرا"
   ]
  },
  {
   "cell_type": "markdown",
   "id": "f087f886-e8e5-4213-a070-36e3bc6fa13e",
   "metadata": {},
   "source": [
    "## سوال زرد : https://quera.org/problemset/3537"
   ]
  },
  {
   "cell_type": "code",
   "execution_count": 1,
   "id": "8f59d514-9f83-4c5a-85fd-ea23b404187c",
   "metadata": {},
   "outputs": [
    {
     "name": "stdout",
     "output_type": "stream",
     "text": [
      "Wooow!\n"
     ]
    }
   ],
   "source": [
    "info = int(input())\n",
    "o = info * 'o'\n",
    "wow = f'W{o}w!'\n",
    "print(wow)"
   ]
  },
  {
   "cell_type": "markdown",
   "id": "f595155b-af33-4dc9-aada-4ccbf37cb70d",
   "metadata": {},
   "source": [
    "## یک سوال ساده : https://quera.org/problemset/2885"
   ]
  },
  {
   "cell_type": "code",
   "execution_count": 1,
   "id": "3338adc2-4c67-43c1-b6a7-5370f6bac237",
   "metadata": {},
   "outputs": [
    {
     "name": "stdout",
     "output_type": "stream",
     "text": [
      "man khoshghlab hastam\n",
      "man khoshghlab hastam\n",
      "man khoshghlab hastam\n",
      "man khoshghlab hastam\n"
     ]
    }
   ],
   "source": [
    "n = int(input())\n",
    "for i in range(n):\n",
    "    print(\"man khoshghlab hastam\")"
   ]
  },
  {
   "cell_type": "markdown",
   "id": "4dbe98a4-1cc6-47c3-88e6-3e5d65138d6e",
   "metadata": {},
   "source": [
    "## فاکتوریل : https://quera.org/problemset/589"
   ]
  },
  {
   "cell_type": "code",
   "execution_count": null,
   "id": "48b62445-7e26-41ca-8553-344382c14adb",
   "metadata": {},
   "outputs": [
    {
     "name": "stdout",
     "output_type": "stream",
     "text": [
      " 5\n"
     ]
    },
    {
     "name": "stdout",
     "output_type": "stream",
     "text": [
      "120\n"
     ]
    }
   ],
   "source": [
    "n = int(input())\n",
    "\n",
    "def factorial(n):\n",
    "    if n == 0:\n",
    "        return 1\n",
    "    else:\n",
    "        return n * factorial(n-1)\n",
    "\n",
    "print(factorial(n))\n"
   ]
  },
  {
   "cell_type": "markdown",
   "id": "66604826-7280-46c7-a17c-a1b624880cb9",
   "metadata": {},
   "source": [
    "## ساقه طلایی شکلاتی : https://quera.org/problemset/261557"
   ]
  },
  {
   "cell_type": "code",
   "execution_count": null,
   "id": "d509c9aa-81c1-4045-beac-9edfa4f31b41",
   "metadata": {},
   "outputs": [
    {
     "name": "stdout",
     "output_type": "stream",
     "text": [
      " 3 4 5\n"
     ]
    },
    {
     "name": "stdout",
     "output_type": "stream",
     "text": [
      "16\n"
     ]
    }
   ],
   "source": [
    "n , x , k = map(int,(input().split()))\n",
    "print((k - 1) * x)"
   ]
  },
  {
   "cell_type": "markdown",
   "id": "85937c66-5385-4cb4-a95e-bc67faf4bd4b",
   "metadata": {},
   "source": [
    "## هویت گم گشته : https://quera.org/problemset/255962"
   ]
  },
  {
   "cell_type": "code",
   "execution_count": null,
   "id": "3a7b9738-05fb-4a58-9515-16ff2c4885eb",
   "metadata": {},
   "outputs": [
    {
     "name": "stdout",
     "output_type": "stream",
     "text": [
      " 3\n",
      " 1383?11209\n",
      " 1383?11104\n",
      " 138200?151\n"
     ]
    },
    {
     "name": "stdout",
     "output_type": "stream",
     "text": [
      "1383511209\n",
      "cannot be recovered!\n",
      "it's not unique!\n"
     ]
    }
   ],
   "source": [
    "def solve():\n",
    "    t = int(input(\"\"))\n",
    "    results = []\n",
    "    \n",
    "    for _ in range(t):\n",
    "        s = input(\"\")  \n",
    "        q_index = s.index('?') \n",
    "        valid_codes = []\n",
    "        \n",
    "        for digit in range(10):\n",
    "            candidate = s[:q_index] + str(digit) + s[q_index+1:]\n",
    "            weights = list(range(10, 1, -1))\n",
    "            c = sum(int(candidate[j]) * weights[j] for j in range(9)) % 11\n",
    "            control_digit = int(candidate[9])\n",
    "            if (c in {0, 1} and control_digit == c) or (c > 1 and control_digit == 11 - c):\n",
    "                valid_codes.append(candidate)\n",
    "        \n",
    "        if len(valid_codes) == 1:\n",
    "            results.append(valid_codes[0])\n",
    "        elif len(valid_codes) == 0:\n",
    "            results.append(\"cannot be recovered!\")\n",
    "        else:\n",
    "            results.append(\"it's not unique!\")\n",
    "    \n",
    "    print(\"\\n\".join(results))\n",
    "\n",
    "solve()"
   ]
  },
  {
   "cell_type": "markdown",
   "id": "28e15abd-361e-418b-ad11-370b26a46685",
   "metadata": {},
   "source": [
    "## رژیم مالی : https://quera.org/problemset/255963"
   ]
  },
  {
   "cell_type": "code",
   "execution_count": null,
   "id": "4c592c29-ca2b-4c0f-b955-f680b24f13df",
   "metadata": {},
   "outputs": [
    {
     "name": "stdout",
     "output_type": "stream",
     "text": [
      " 4\n",
      " 2 2\n",
      " 1 2 2\n",
      " 1 5\n",
      " 10 1 2 \n",
      " 3 1\n",
      " 7 7 3\n",
      " 0 1\n",
      " 5 3 1\n"
     ]
    },
    {
     "name": "stdout",
     "output_type": "stream",
     "text": [
      "3\n",
      "4\n",
      "9\n",
      "1\n"
     ]
    }
   ],
   "source": [
    "import math\n",
    "\n",
    "def calculate_min_cost(t, shams):\n",
    "    results = []\n",
    "    \n",
    "    for i in range(t):\n",
    "        k, j = shams[i][:2]\n",
    "        kabab, joojeh, mix = shams[i][2:]\n",
    "  \n",
    "        cost1 = math.ceil((k / 2)) * kabab + math.ceil((j / 2)) * joojeh\n",
    "       \n",
    "        cost2 = (max(k, j)) * mix\n",
    "        \n",
    "        num_mixes = min(k, j)\n",
    "        remaining_k = k - num_mixes\n",
    "        remaining_j = j - num_mixes\n",
    "        cost3 = num_mixes * mix + math.ceil((remaining_k / 2)) * kabab + math.ceil((remaining_j / 2)) * joojeh\n",
    "        \n",
    "        min_cost = min(cost1, cost2, cost3)\n",
    "        results.append(min_cost)\n",
    "    \n",
    "    return results\n",
    "\n",
    "t = int(input())\n",
    "shams = [list(map(int, input().split())) + list(map(int, input().split())) for _ in range(t)]\n",
    "\n",
    "results = calculate_min_cost(t, shams)\n",
    "print(\"\\n\".join(map(str, results)))\n"
   ]
  },
  {
   "cell_type": "markdown",
   "id": "a8ed40c0-2103-47db-be9e-d2fc10249e77",
   "metadata": {},
   "source": [
    "## اعداد فیثاغورثی : https://quera.org/problemset/280"
   ]
  },
  {
   "cell_type": "code",
   "execution_count": null,
   "id": "0e45cb4d-4a3b-495e-9c20-920f223ebe45",
   "metadata": {},
   "outputs": [
    {
     "name": "stdout",
     "output_type": "stream",
     "text": [
      " 3\n",
      " 4\n",
      " 5\n"
     ]
    },
    {
     "name": "stdout",
     "output_type": "stream",
     "text": [
      "YES\n"
     ]
    }
   ],
   "source": [
    "a = int(input())\n",
    "b = int(input())\n",
    "c = int(input())\n",
    "\n",
    "if a!=0 and b!=0 and c!=0:\n",
    "    if a**2==b**2+c**2 or b**2 == a**2 +c**2 or c**2==a**2+ b**2:\n",
    "        print(\"YES\")\n",
    "    else:\n",
    "        print(\"NO\")\n",
    "else:\n",
    "    print(\"NO\")"
   ]
  },
  {
   "cell_type": "markdown",
   "id": "17069f10-323e-4624-ae9b-804abce4f42e",
   "metadata": {},
   "source": [
    "## همینگطوری : https://quera.org/problemset/261556"
   ]
  },
  {
   "cell_type": "code",
   "execution_count": null,
   "id": "1907e77d-7b75-4d87-80b3-e98fde0ae8cb",
   "metadata": {},
   "outputs": [
    {
     "name": "stdout",
     "output_type": "stream",
     "text": [
      " 3\n",
      " 4\n",
      " 1010\n",
      " 11\n",
      " 10101001110\n",
      " 8\n",
      " 00000000\n"
     ]
    },
    {
     "name": "stdout",
     "output_type": "stream",
     "text": [
      "YES\n",
      "1110\n",
      "INVALID\n",
      "NO\n"
     ]
    }
   ],
   "source": [
    "def hamming_code(t, test_cases):\n",
    "    results = []\n",
    "    for n, encoded in test_cases:\n",
    "        r = 0\n",
    "        while (1 << r) <= n:\n",
    "            r += 1\n",
    "\n",
    "        error_pos = 0\n",
    "        for i in range(r):\n",
    "            parity_index = (1 << i)\n",
    "            parity_xor = 0\n",
    "            for j in range(1, n + 1):\n",
    "                if j & parity_index:\n",
    "                    parity_xor ^= int(encoded[j - 1])\n",
    "            if parity_xor != 0:\n",
    "                error_pos += parity_index\n",
    "\n",
    "        if error_pos > n:\n",
    "            results.append(\"INVALID\")\n",
    "        else:\n",
    "            if error_pos > 0:\n",
    "                results.append(\"YES\")\n",
    "                corrected = list(encoded)\n",
    "                corrected[error_pos - 1] = '1' if corrected[error_pos - 1] == '0' else '0'\n",
    "                results.append(\"\".join(corrected))\n",
    "            else:\n",
    "                results.append(\"NO\")\n",
    "    \n",
    "    return results\n",
    "\n",
    "t = int(input())\n",
    "test_cases = []\n",
    "for _ in range(t):\n",
    "    n = int(input())\n",
    "    encoded = input()\n",
    "    test_cases.append((n, encoded))\n",
    "\n",
    "results = hamming_code(t, test_cases)\n",
    "for res in results:\n",
    "    print(res)\n"
   ]
  },
  {
   "cell_type": "markdown",
   "id": "15c096e4-ab99-4435-b41c-aa399ded3750",
   "metadata": {},
   "source": [
    "## کارمند زیادی : https://quera.org/problemset/10636"
   ]
  },
  {
   "cell_type": "code",
   "execution_count": null,
   "id": "4416342f-37c4-47a4-b3bf-f914911e189b",
   "metadata": {},
   "outputs": [
    {
     "name": "stdout",
     "output_type": "stream",
     "text": [
      " 4\n",
      " bagher bagheri \n",
      " bagher naderi\n",
      " nader naderi\n",
      " nader bagheri\n"
     ]
    },
    {
     "name": "stdout",
     "output_type": "stream",
     "text": [
      "2\n"
     ]
    }
   ],
   "source": [
    "n = int(input())\n",
    "names = []\n",
    "for _ in range(n) :\n",
    "    names.append(input().split()[0])\n",
    "    \n",
    "unique={name:names.count(name) for name in set(names)}\n",
    "print(max(unique.values()))"
   ]
  },
  {
   "cell_type": "markdown",
   "id": "e6f5fb47-6ac1-4eed-a0b0-3d6f4da0c2a8",
   "metadata": {},
   "source": [
    "## رشته فیبوناچی : https://quera.org/problemset/17675"
   ]
  },
  {
   "cell_type": "code",
   "execution_count": null,
   "id": "f1531250-0ba5-4c2f-a5ec-49808d1d4e59",
   "metadata": {},
   "outputs": [
    {
     "name": "stdout",
     "output_type": "stream",
     "text": [
      " 10\n"
     ]
    },
    {
     "name": "stdout",
     "output_type": "stream",
     "text": [
      "+++-+--+--\n"
     ]
    }
   ],
   "source": [
    "def fibonacci(n):\n",
    "    if n==0:\n",
    "        return 0\n",
    "    if n==1:\n",
    "        return 1\n",
    "    return fibonacci(n-1) + fibonacci(n-2)\n",
    "\n",
    "fibs = []\n",
    "res =[]\n",
    "n = int(input())\n",
    "\n",
    "for i in range(12):\n",
    "    fibs.append(fibonacci(i))\n",
    "\n",
    "for i in range(1 , n+1):\n",
    "    if i in fibs : \n",
    "        res.append(\"+\")\n",
    "    else:\n",
    "        res.append(\"-\")\n",
    "\n",
    "print(''.join(res))\n"
   ]
  },
  {
   "cell_type": "markdown",
   "id": "e2a76349-4369-4ad4-ac0b-48b9ace437a1",
   "metadata": {},
   "source": [
    "## فرزاد فیلم بین : https://quera.org/problemset/655"
   ]
  },
  {
   "cell_type": "code",
   "execution_count": null,
   "id": "47ec86ee-fa4d-44b1-ad32-efd77af5e22a",
   "metadata": {},
   "outputs": [
    {
     "name": "stdout",
     "output_type": "stream",
     "text": [
      " 3\n",
      " rEd riDing HOoD\n",
      " DraCUla\n",
      " Bad LiEutenAnt\n"
     ]
    },
    {
     "name": "stdout",
     "output_type": "stream",
     "text": [
      "Red Riding Hood\n",
      "Dracula\n",
      "Bad Lieutenant\n"
     ]
    }
   ],
   "source": [
    "n = int(input())\n",
    "movies = []\n",
    "\n",
    "for i in range(n):\n",
    "    movie = input()\n",
    "    movies.append(movie.title())\n",
    "\n",
    "print('\\n'.join(movies))"
   ]
  },
  {
   "cell_type": "markdown",
   "id": "d2376718-0861-419f-97e2-bd156b426900",
   "metadata": {},
   "source": [
    "## عدد چاپ کن : https://quera.org/problemset/9774"
   ]
  },
  {
   "cell_type": "code",
   "execution_count": null,
   "id": "a2a69ad1-c3b8-426c-b8cf-b0c9ba6eb6cf",
   "metadata": {},
   "outputs": [
    {
     "name": "stdout",
     "output_type": "stream",
     "text": [
      " 5049\n"
     ]
    },
    {
     "name": "stdout",
     "output_type": "stream",
     "text": [
      "5: 55555\n",
      "0: \n",
      "4: 4444\n",
      "9: 999999999\n"
     ]
    }
   ],
   "source": [
    "string = input()\n",
    "\n",
    "for i in string:\n",
    "    print(f'{i}: {i * int(i)}')"
   ]
  },
  {
   "cell_type": "markdown",
   "id": "ef31510a-ed65-4dc7-9a43-8a43195ad6e6",
   "metadata": {},
   "source": [
    "## رمز های جان سخت : https://quera.org/problemset/9722"
   ]
  },
  {
   "cell_type": "code",
   "execution_count": null,
   "id": "ea8b1a69-2911-4e11-8f28-0278a0881f57",
   "metadata": {},
   "outputs": [
    {
     "name": "stdout",
     "output_type": "stream",
     "text": [
      " 4\n"
     ]
    },
    {
     "name": "stdout",
     "output_type": "stream",
     "text": [
      "2333\n",
      "2339\n",
      "2393\n",
      "2399\n",
      "2939\n",
      "3119\n",
      "3137\n",
      "3733\n",
      "3739\n",
      "3793\n",
      "3797\n",
      "5939\n",
      "7193\n",
      "7331\n",
      "7333\n",
      "7393\n"
     ]
    }
   ],
   "source": [
    "def is_prime(num):\n",
    "    if num < 2:\n",
    "        return False\n",
    "    for i in range(2, int(num**0.5) + 1):\n",
    "        if num % i == 0:\n",
    "            return False\n",
    "    return True\n",
    "\n",
    "def is_tough_prime(number):\n",
    "\n",
    "    while number > 0:\n",
    "        if not is_prime(number):\n",
    "            return False\n",
    "        number //= 10 \n",
    "    return True\n",
    "\n",
    "def generate_tough_primes(n, current=\"\"):\n",
    "    if len(current) == n:\n",
    "        print(current)\n",
    "        return\n",
    "    \n",
    "\n",
    "    for digit in \"23579\" if current == \"\" else \"0123456789\":\n",
    "        new_number = current + digit\n",
    "        if is_prime(int(new_number)):\n",
    "            generate_tough_primes(n, new_number)\n",
    "\n",
    "\n",
    "n = int(input())\n",
    "generate_tough_primes(n)"
   ]
  },
  {
   "cell_type": "markdown",
   "id": "8c764636-7a71-4888-a136-1dfd839c582b",
   "metadata": {},
   "source": [
    "## هگزانوردی : https://quera.org/problemset/127291"
   ]
  },
  {
   "cell_type": "code",
   "execution_count": null,
   "id": "093121a5-df13-4901-8a06-6a12f65d9f3b",
   "metadata": {},
   "outputs": [
    {
     "name": "stdout",
     "output_type": "stream",
     "text": [
      " 3\n",
      " A\n",
      " AB\n",
      " ABC\n"
     ]
    },
    {
     "name": "stdout",
     "output_type": "stream",
     "text": [
      "1\n",
      "2\n",
      "2\n"
     ]
    }
   ],
   "source": [
    "directions = {\n",
    "    'A': (1, -1, 0),\n",
    "    'B': (0, -1, 1),\n",
    "    'C': (-1, 0, 1),\n",
    "    'D': (-1, 1, 0),\n",
    "    'E': (0, 1, -1),\n",
    "    'F': (1, 0, -1)\n",
    "}\n",
    "\n",
    "t = int(input()) \n",
    "results = []\n",
    "\n",
    "for _ in range(t):\n",
    "    path = input().strip()\n",
    "    x, y, z = 0, 0, 0 \n",
    "    for move in path:\n",
    "        dx, dy, dz = directions[move]\n",
    "        x += dx\n",
    "        y += dy\n",
    "        z += dz\n",
    "\n",
    "    distance = max(abs(x), abs(y), abs(z))\n",
    "    results.append(distance)\n",
    "\n",
    "print('\\n'.join(map(str, results)))\n"
   ]
  },
  {
   "cell_type": "markdown",
   "id": "fc13a549",
   "metadata": {},
   "source": [
    "## رژیم سخت : https://quera.org/problemset/20256?tab=description"
   ]
  },
  {
   "cell_type": "code",
   "execution_count": null,
   "id": "512edcc9",
   "metadata": {},
   "outputs": [
    {
     "name": "stdout",
     "output_type": "stream",
     "text": [
      "nakhor lite\n"
     ]
    }
   ],
   "source": [
    "lable = input()\n",
    "\n",
    "if lable.count(\"R\") >= 3 :\n",
    "    print(\"nakhor lite\")\n",
    "elif lable.count(\"R\") >= 2 and lable.count(\"Y\") >= 2 :\n",
    "    print(\"nakhor lite\")\n",
    "elif lable.count(\"G\") == 0 :\n",
    "    print(\"nakhor lite\")\n",
    "else:\n",
    "    print(\"rahat baash\")\n"
   ]
  },
  {
   "cell_type": "markdown",
   "id": "8ec075de",
   "metadata": {},
   "source": [
    "## هگزاموردی : https://quera.org/problemset/127291"
   ]
  },
  {
   "cell_type": "code",
   "execution_count": 3,
   "id": "5330d504",
   "metadata": {},
   "outputs": [
    {
     "name": "stdout",
     "output_type": "stream",
     "text": [
      "1\n",
      "2\n",
      "2\n"
     ]
    }
   ],
   "source": [
    "directions = {\n",
    "    'A': (1, -1, 0),\n",
    "    'B': (0, -1, 1),\n",
    "    'C': (-1, 0, 1),\n",
    "    'D': (-1, 1, 0),\n",
    "    'E': (0, 1, -1),\n",
    "    'F': (1, 0, -1)\n",
    "}\n",
    "\n",
    "t = int(input()) \n",
    "results = []\n",
    "\n",
    "for _ in range(t):\n",
    "    path = input().strip()\n",
    "    x, y, z = 0, 0, 0 \n",
    "    for move in path:\n",
    "        dx, dy, dz = directions[move]\n",
    "        x += dx\n",
    "        y += dy\n",
    "        z += dz\n",
    "\n",
    "    distance = max(abs(x), abs(y), abs(z))\n",
    "    results.append(distance)\n",
    "\n",
    "print('\\n'.join(map(str, results)))"
   ]
  }
 ],
 "metadata": {
  "kernelspec": {
   "display_name": "base",
   "language": "python",
   "name": "python3"
  },
  "language_info": {
   "codemirror_mode": {
    "name": "ipython",
    "version": 3
   },
   "file_extension": ".py",
   "mimetype": "text/x-python",
   "name": "python",
   "nbconvert_exporter": "python",
   "pygments_lexer": "ipython3",
   "version": "3.12.2"
  }
 },
 "nbformat": 4,
 "nbformat_minor": 5
}
